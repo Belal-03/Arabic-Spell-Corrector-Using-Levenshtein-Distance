{
 "cells": [
  {
   "cell_type": "markdown",
   "id": "b48da857-630e-4a9c-8974-e76a1315597b",
   "metadata": {},
   "source": [
    "# <center> • **NLP and Text Mining** </center>\n",
    "### <center> _____________• Assignment 02: Implement a Spelling Correction Tool Using Minimum Edit Distance_____________ </center>\n",
    "### <center> _____________• By:_____________ </center>\n",
    "#### <center> _____________○ Belal Khaled ~ 2136873_____________ </center>\n",
    "#### <center> _____________○ Yaseen Naser ~ 2130397_____________ </center>\n",
    "#### <center> _____________○ Abdulrahman Abuhani ~ 2132462_____________ </center>\n",
    "# ـــــــــــــــــــــــــــــــــــــــــــــــــــــــــــــــــــــــــــــــــــــــــــــــــــــــــــــــــــــــــــــــــــــــــــــــــــــــــــــــــــــــــــــــــــــــــــــــــــــــــــــــــــــــــــ"
   ]
  },
  {
   "cell_type": "markdown",
   "id": "724757f9-81dc-4b3c-a372-5db4fbc3e98e",
   "metadata": {},
   "source": [
    "# <center> • WORDS LIST DATA FROM GITHUB: </center>\n",
    "## <center> ○ ____________https://github.com/a3f/arabic-wordlists/blob/master/README.md____________</center>"
   ]
  },
  {
   "cell_type": "markdown",
   "id": "2dc69e79-4ef8-46be-a3e3-251c982f6dc6",
   "metadata": {},
   "source": [
    "# ـــــــــــــــــــــــــــــــــــــــــــــــــــــــــــــــــــــــــــــــــــــــــــــــــــــــــــــــــــــــــــــــــــــــــــــــــــــــــــــــــــــــــــــــــــــــــــــــــــــــــــــــــــــــــــ"
   ]
  },
  {
   "cell_type": "markdown",
   "id": "7d656093-e9f7-4da2-b3a6-3356b58add45",
   "metadata": {},
   "source": [
    "# • Importing All Libraries we Need:"
   ]
  },
  {
   "cell_type": "code",
   "execution_count": null,
   "id": "0fa3da89-a839-4b05-9160-075604836db0",
   "metadata": {},
   "outputs": [],
   "source": [
    "import re"
   ]
  },
  {
   "cell_type": "markdown",
   "id": "ae991eb8-44fd-41ca-b5f7-53114c8a33b6",
   "metadata": {},
   "source": [
    "# ـــــــــــــــــــــــــــــــــــــــــــــــــــــــــــــــــــــــــــــــــــــــــــــــــــــــــــــــــــــــــــــــــــــــــــــــــــــــــــــــــــــــــــــــــــــــــــــــــــــــــــــــــــــــــــ"
   ]
  },
  {
   "cell_type": "markdown",
   "id": "3fa2bcef-11c6-4253-8169-f651b81f8db6",
   "metadata": {},
   "source": [
    "# • Implementing the Levenshtein Distance Algorithm:"
   ]
  },
  {
   "cell_type": "code",
   "execution_count": null,
   "id": "eecaced7-4a9d-473b-b05b-b3b61f65b056",
   "metadata": {},
   "outputs": [],
   "source": [
    "def levenshtein_distance(s, t):\n",
    "    x = len(s)\n",
    "    y = len(t)\n",
    "    z = []\n",
    "    \n",
    "    for i in range(x + 1):\n",
    "        row = [0] * (y + 1)  \n",
    "        z.append(row)\n",
    "    \n",
    "    for i in range(x + 1):\n",
    "        z[i][0] = i\n",
    "    for j in range(y + 1):\n",
    "        z[0][j] = j\n",
    "    \n",
    "    for i in range(1, x + 1):\n",
    "        for j in range(1, y + 1):\n",
    "            sub_cost = 0 if s[i - 1] == t[j - 1] else 1\n",
    "            z[i][j] = min(\n",
    "                z[i - 1][j] + 1,     \n",
    "                z[i][j - 1] + 1,      \n",
    "                z[i - 1][j - 1] + sub_cost  \n",
    "            )\n",
    "    \n",
    "    return z[x][y]"
   ]
  },
  {
   "cell_type": "markdown",
   "id": "71f441b5-ce88-4746-9368-c26923205bb3",
   "metadata": {},
   "source": [
    "# ـــــــــــــــــــــــــــــــــــــــــــــــــــــــــــــــــــــــــــــــــــــــــــــــــــــــــــــــــــــــــــــــــــــــــــــــــــــــــــــــــــــــــــــــــــــــــــــــــــــــــــــــــــــــــــ"
   ]
  },
  {
   "cell_type": "markdown",
   "id": "e9a88676-49c5-4048-b791-4604ed979662",
   "metadata": {},
   "source": [
    "# • Check If the Input Word is Arabic:"
   ]
  },
  {
   "cell_type": "code",
   "execution_count": null,
   "id": "825dc5f8-750c-43d4-a0fa-00eb1449fafb",
   "metadata": {},
   "outputs": [],
   "source": [
    "def is_arabic(word):\n",
    "    return bool(re.match(\"^[\\u0600-\\u06FF]+$\", word))"
   ]
  },
  {
   "cell_type": "markdown",
   "id": "f751c397-b66e-4884-9792-5e9833db9be5",
   "metadata": {},
   "source": [
    "# ـــــــــــــــــــــــــــــــــــــــــــــــــــــــــــــــــــــــــــــــــــــــــــــــــــــــــــــــــــــــــــــــــــــــــــــــــــــــــــــــــــــــــــــــــــــــــــــــــــــــــــــــــــــــــــ"
   ]
  },
  {
   "cell_type": "markdown",
   "id": "10ec72e3-3ca4-4c4e-8321-e2dc8b270ff8",
   "metadata": {},
   "source": [
    "# • Loading a Dictionary and Providing Suggestions for User-Entered Words:"
   ]
  },
  {
   "cell_type": "code",
   "execution_count": 179,
   "id": "8063be30-4b2a-4bbd-addb-4796997d41c7",
   "metadata": {},
   "outputs": [
    {
     "name": "stdin",
     "output_type": "stream",
     "text": [
      "أدخل كلمة بها خطأ إملائي:  اةت\n"
     ]
    },
    {
     "name": "stdout",
     "output_type": "stream",
     "text": [
      "--------------------------------------\n",
      "الاقتراحات: ابت, ات, اخت, ارت, است, امت, انت, اوت\n",
      "--------------------------------------\n",
      "Word: ابت  |  Edit Distance: 1\n",
      "--------------------------------------\n",
      "Word: ات  |  Edit Distance: 1\n",
      "--------------------------------------\n",
      "Word: اخت  |  Edit Distance: 1\n",
      "--------------------------------------\n",
      "Word: ارت  |  Edit Distance: 1\n",
      "--------------------------------------\n",
      "Word: است  |  Edit Distance: 1\n",
      "--------------------------------------\n",
      "Word: امت  |  Edit Distance: 1\n",
      "--------------------------------------\n",
      "Word: انت  |  Edit Distance: 1\n",
      "--------------------------------------\n",
      "Word: اوت  |  Edit Distance: 1\n",
      "--------------------------------------\n"
     ]
    }
   ],
   "source": [
    "input_word = input(\"أدخل كلمة بها خطأ إملائي: \").strip()\n",
    "print('--------------------------------------')\n",
    "\n",
    "if not is_arabic(input_word):\n",
    "    print(\"حدث خطأ: تأكد من إدخال كلمة عربية.\")\n",
    "else:\n",
    "    file_path = 'hans-wehr.wordlist'\n",
    "    try:\n",
    "        with open(file_path, 'r', encoding='utf-8') as f:\n",
    "            dictionary = [line.strip() for line in f if line.strip()]\n",
    "    except FileNotFoundError:\n",
    "        print(f\"Error: Dictionary file '{file_path}' not found.\")\n",
    "        dictionary = []\n",
    "\n",
    "    if dictionary and input_word:\n",
    "        min_distance = float('inf')\n",
    "        suggestions = []\n",
    "\n",
    "        for word in dictionary:\n",
    "            distance = levenshtein_distance(input_word, word)\n",
    "            if distance < min_distance:\n",
    "                min_distance = distance\n",
    "                suggestions = [word]\n",
    "            elif distance == min_distance:\n",
    "                suggestions.append(word)\n",
    "\n",
    "        if suggestions:\n",
    "            print(\"الاقتراحات:\", ', '.join(suggestions))\n",
    "            print('--------------------------------------')\n",
    "            for suggestion in suggestions:\n",
    "                print(f\"Word: {suggestion}  |  Edit Distance: {min_distance}\")\n",
    "                print('--------------------------------------')\n",
    "        else:\n",
    "            print(\"لا توجد اقتراحات.\")"
   ]
  },
  {
   "cell_type": "markdown",
   "id": "6b04dadf-302c-40fc-bd2a-5e78509de64f",
   "metadata": {},
   "source": [
    "# ـــــــــــــــــــــــــــــــــــــــــــــــــــــــــــــــــــــــــــــــــــــــــــــــــــــــــــــــــــــــــــــــــــــــــــــــــــــــــــــــــــــــــــــــــــــــــــــــــــــــــــــــــــــــــــ"
   ]
  },
  {
   "cell_type": "markdown",
   "id": "9e88391c-b450-4cfa-9b12-a0fa24bd9519",
   "metadata": {},
   "source": [
    "# <center> **The End** </center> "
   ]
  },
  {
   "cell_type": "markdown",
   "id": "bbe0f3f4-7e79-46de-ac55-61f5900b44c6",
   "metadata": {},
   "source": [
    "# ـــــــــــــــــــــــــــــــــــــــــــــــــــــــــــــــــــــــــــــــــــــــــــــــــــــــــــــــــــــــــــــــــــــــــــــــــــــــــــــــــــــــــــــــــــــــــــــــــــــــــــــــــــــــــــ"
   ]
  }
 ],
 "metadata": {
  "kernelspec": {
   "display_name": "Python [conda env:base] *",
   "language": "python",
   "name": "conda-base-py"
  },
  "language_info": {
   "codemirror_mode": {
    "name": "ipython",
    "version": 3
   },
   "file_extension": ".py",
   "mimetype": "text/x-python",
   "name": "python",
   "nbconvert_exporter": "python",
   "pygments_lexer": "ipython3",
   "version": "3.12.7"
  }
 },
 "nbformat": 4,
 "nbformat_minor": 5
}
